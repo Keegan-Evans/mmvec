{
 "cells": [
  {
   "cell_type": "code",
   "execution_count": 1,
   "id": "461ff352",
   "metadata": {},
   "outputs": [],
   "source": [
    "%load_ext autoreload"
   ]
  },
  {
   "cell_type": "code",
   "execution_count": 2,
   "id": "e536cc44",
   "metadata": {},
   "outputs": [],
   "source": [
    "%autoreload 1"
   ]
  },
  {
   "cell_type": "code",
   "execution_count": 3,
   "id": "acadee5d",
   "metadata": {
    "scrolled": false
   },
   "outputs": [
    {
     "data": {
      "text/plain": [
       "<torch._C.Generator at 0x11d97a450>"
      ]
     },
     "execution_count": 3,
     "metadata": {},
     "output_type": "execute_result"
    }
   ],
   "source": [
    "import biom\n",
    "import torch\n",
    "import torch.nn as nn\n",
    "%aimport mmvec.ALR\n",
    "\n",
    "import numpy as np\n",
    "\n",
    "torch.manual_seed(15)"
   ]
  },
  {
   "cell_type": "code",
   "execution_count": 4,
   "id": "14d8bfab",
   "metadata": {},
   "outputs": [],
   "source": [
    "microbes = biom.load_table(\"./soil_microbes.biom\")\n",
    "metabolites = biom.load_table(\"./soil_metabolites.biom\")\n",
    "\n",
    "model = mmvec.ALR.MMvecALR(microbes, metabolites, 15, sigma_u=1, sigma_v=1)\n",
    "\n",
    "microbes = microbes.to_dataframe().T\n",
    "metabolites = metabolites.to_dataframe().T\n",
    "microbes = microbes.loc[metabolites.index]\n",
    "\n",
    "microbe_idx = microbes.columns\n",
    "metabolite_idx = metabolites.columns\n",
    "microbes = torch.tensor(microbes.values, dtype=torch.int)\n",
    "metabolites = torch.tensor(metabolites.values, dtype=torch.int64)\n",
    "\n",
    "microbe_relative_frequency = (microbes.T/microbes.sum(1)).T\n",
    "\n",
    "microbe_count = microbes.shape[1]\n",
    "metabolite_count = metabolites.shape[1]"
   ]
  },
  {
   "cell_type": "code",
   "execution_count": 5,
   "id": "9003e38d",
   "metadata": {},
   "outputs": [],
   "source": [
    "#model = mmvec.ALR.MMvecALR(microbe_count, metabolite_count, 15, sigma_u=1, sigma_v=1)\n",
    "learning_rate = 1e-3\n",
    "batch_size = 200\n",
    "epochs = 100\n",
    "optimizer = torch.optim.Adam(model.parameters(), lr=learning_rate, maximize=True)"
   ]
  },
  {
   "cell_type": "code",
   "execution_count": 6,
   "id": "29799ea5",
   "metadata": {},
   "outputs": [
    {
     "data": {
      "text/plain": [
       "tensor([[0.2017, 0.0000, 0.0000,  ..., 0.0000, 0.0000, 0.0000],\n",
       "        [0.0950, 0.1752, 0.0000,  ..., 0.0000, 0.0013, 0.0000],\n",
       "        [0.1416, 0.0973, 0.0000,  ..., 0.0000, 0.0064, 0.0000],\n",
       "        ...,\n",
       "        [0.0507, 0.0000, 0.0090,  ..., 0.0058, 0.0000, 0.0051],\n",
       "        [0.0382, 0.0076, 0.0025,  ..., 0.0000, 0.0009, 0.0100],\n",
       "        [0.0027, 0.0135, 0.0000,  ..., 0.0000, 0.0008, 0.0036]])"
      ]
     },
     "execution_count": 6,
     "metadata": {},
     "output_type": "execute_result"
    }
   ],
   "source": [
    "model.microbe_relative_freq"
   ]
  },
  {
   "cell_type": "code",
   "execution_count": 7,
   "id": "b977e212",
   "metadata": {},
   "outputs": [
    {
     "name": "stdout",
     "output_type": "stream",
     "text": [
      "loss: -14241466368.0\n",
      "Batch #: 0\n"
     ]
    }
   ],
   "source": [
    "maybe = mmvec.train.mmvec_training_loop(\n",
    "                            model=model,\n",
    "                            optimizer=optimizer,\n",
    "                            batch_size=batch_size,\n",
    "                            epochs=epochs)"
   ]
  },
  {
   "cell_type": "code",
   "execution_count": null,
   "id": "1f27301f",
   "metadata": {},
   "outputs": [],
   "source": []
  },
  {
   "cell_type": "code",
   "execution_count": 9,
   "id": "8a16a24a",
   "metadata": {},
   "outputs": [
    {
     "data": {
      "text/plain": [
       "tensor([[ 1.1758,  0.0677, -0.5526,  ..., -0.7825, -0.5267, -0.1815],\n",
       "        [ 0.2582, -0.7442,  0.0576,  ..., -1.0060, -0.2658, -0.9660],\n",
       "        [ 0.9580, -0.5079, -0.8934,  ..., -0.5971, -0.0238, -0.3293],\n",
       "        ...,\n",
       "        [ 0.0645,  0.1041, -0.8826,  ...,  0.0947, -0.1519, -0.1774],\n",
       "        [ 0.4002,  0.1209, -0.4545,  ..., -0.8281, -1.0184,  0.7384],\n",
       "        [ 1.1294, -0.6548, -0.0167,  ..., -1.0560, -0.1584, -0.8694]])"
      ]
     },
     "execution_count": 9,
     "metadata": {},
     "output_type": "execute_result"
    }
   ],
   "source": [
    "model.ranks"
   ]
  },
  {
   "cell_type": "code",
   "execution_count": 10,
   "id": "3663ecb4",
   "metadata": {},
   "outputs": [
    {
     "ename": "AttributeError",
     "evalue": "'MMvecALR' object has no attribute 'ranks_matrix'",
     "output_type": "error",
     "traceback": [
      "\u001b[0;31m---------------------------------------------------------------------------\u001b[0m",
      "\u001b[0;31mAttributeError\u001b[0m                            Traceback (most recent call last)",
      "Input \u001b[0;32mIn [10]\u001b[0m, in \u001b[0;36m<cell line: 2>\u001b[0;34m()\u001b[0m\n\u001b[1;32m      1\u001b[0m \u001b[38;5;66;03m# h = model.ranks_df - model.ranks_df.mean(axis=0)\u001b[39;00m\n\u001b[0;32m----> 2\u001b[0m h \u001b[38;5;241m=\u001b[39m \u001b[43mmodel\u001b[49m\u001b[38;5;241;43m.\u001b[39;49m\u001b[43mranks_matrix\u001b[49m\n\u001b[1;32m      4\u001b[0m k \u001b[38;5;241m=\u001b[39m model\u001b[38;5;241m.\u001b[39mlatent_dim\n",
      "File \u001b[0;32m~/opt/miniconda3/envs/mmvec/lib/python3.10/site-packages/torch/nn/modules/module.py:1185\u001b[0m, in \u001b[0;36mModule.__getattr__\u001b[0;34m(self, name)\u001b[0m\n\u001b[1;32m   1183\u001b[0m     \u001b[38;5;28;01mif\u001b[39;00m name \u001b[38;5;129;01min\u001b[39;00m modules:\n\u001b[1;32m   1184\u001b[0m         \u001b[38;5;28;01mreturn\u001b[39;00m modules[name]\n\u001b[0;32m-> 1185\u001b[0m \u001b[38;5;28;01mraise\u001b[39;00m \u001b[38;5;167;01mAttributeError\u001b[39;00m(\u001b[38;5;124m\"\u001b[39m\u001b[38;5;124m'\u001b[39m\u001b[38;5;132;01m{}\u001b[39;00m\u001b[38;5;124m'\u001b[39m\u001b[38;5;124m object has no attribute \u001b[39m\u001b[38;5;124m'\u001b[39m\u001b[38;5;132;01m{}\u001b[39;00m\u001b[38;5;124m'\u001b[39m\u001b[38;5;124m\"\u001b[39m\u001b[38;5;241m.\u001b[39mformat(\n\u001b[1;32m   1186\u001b[0m     \u001b[38;5;28mtype\u001b[39m(\u001b[38;5;28mself\u001b[39m)\u001b[38;5;241m.\u001b[39m\u001b[38;5;18m__name__\u001b[39m, name))\n",
      "\u001b[0;31mAttributeError\u001b[0m: 'MMvecALR' object has no attribute 'ranks_matrix'"
     ]
    }
   ],
   "source": [
    "# h = model.ranks_df - model.ranks_df.mean(axis=0)\n",
    "h = model.ranks_matrix\n",
    "\n",
    "k = model.latent_dim"
   ]
  },
  {
   "cell_type": "code",
   "execution_count": null,
   "id": "6b3bcb21",
   "metadata": {},
   "outputs": [],
   "source": [
    "h.mean(dim=0).shape"
   ]
  },
  {
   "cell_type": "code",
   "execution_count": null,
   "id": "52e80094",
   "metadata": {},
   "outputs": [],
   "source": [
    "from torch.linalg import svd\n"
   ]
  },
  {
   "cell_type": "code",
   "execution_count": null,
   "id": "b24646d3",
   "metadata": {},
   "outputs": [],
   "source": [
    "u, s, v = svd(h, full_matrices=False)"
   ]
  },
  {
   "cell_type": "code",
   "execution_count": null,
   "id": "afc2f855",
   "metadata": {},
   "outputs": [],
   "source": [
    "u.shape, s.shape, v.shape"
   ]
  },
  {
   "cell_type": "code",
   "execution_count": null,
   "id": "5b427a72",
   "metadata": {},
   "outputs": [],
   "source": [
    "s"
   ]
  },
  {
   "cell_type": "code",
   "execution_count": 11,
   "id": "752acb7a",
   "metadata": {},
   "outputs": [
    {
     "ename": "AttributeError",
     "evalue": "'MMvecALR' object has no attribute 'U'",
     "output_type": "error",
     "traceback": [
      "\u001b[0;31m---------------------------------------------------------------------------\u001b[0m",
      "\u001b[0;31mAttributeError\u001b[0m                            Traceback (most recent call last)",
      "Input \u001b[0;32mIn [11]\u001b[0m, in \u001b[0;36m<cell line: 1>\u001b[0;34m()\u001b[0m\n\u001b[0;32m----> 1\u001b[0m \u001b[43mmodel\u001b[49m\u001b[38;5;241;43m.\u001b[39;49m\u001b[43mU\u001b[49m\n",
      "File \u001b[0;32m~/opt/miniconda3/envs/mmvec/lib/python3.10/site-packages/torch/nn/modules/module.py:1185\u001b[0m, in \u001b[0;36mModule.__getattr__\u001b[0;34m(self, name)\u001b[0m\n\u001b[1;32m   1183\u001b[0m     \u001b[38;5;28;01mif\u001b[39;00m name \u001b[38;5;129;01min\u001b[39;00m modules:\n\u001b[1;32m   1184\u001b[0m         \u001b[38;5;28;01mreturn\u001b[39;00m modules[name]\n\u001b[0;32m-> 1185\u001b[0m \u001b[38;5;28;01mraise\u001b[39;00m \u001b[38;5;167;01mAttributeError\u001b[39;00m(\u001b[38;5;124m\"\u001b[39m\u001b[38;5;124m'\u001b[39m\u001b[38;5;132;01m{}\u001b[39;00m\u001b[38;5;124m'\u001b[39m\u001b[38;5;124m object has no attribute \u001b[39m\u001b[38;5;124m'\u001b[39m\u001b[38;5;132;01m{}\u001b[39;00m\u001b[38;5;124m'\u001b[39m\u001b[38;5;124m\"\u001b[39m\u001b[38;5;241m.\u001b[39mformat(\n\u001b[1;32m   1186\u001b[0m     \u001b[38;5;28mtype\u001b[39m(\u001b[38;5;28mself\u001b[39m)\u001b[38;5;241m.\u001b[39m\u001b[38;5;18m__name__\u001b[39m, name))\n",
      "\u001b[0;31mAttributeError\u001b[0m: 'MMvecALR' object has no attribute 'U'"
     ]
    }
   ],
   "source": [
    "model.U"
   ]
  },
  {
   "cell_type": "code",
   "execution_count": null,
   "id": "18824f01",
   "metadata": {},
   "outputs": [],
   "source": [
    "model.get_ordination()"
   ]
  },
  {
   "cell_type": "code",
   "execution_count": null,
   "id": "a5f97b6d",
   "metadata": {},
   "outputs": [],
   "source": [
    "ranks = pd.DataFrame(model.ranks(),\n",
    "                     index=microbe_idx,\n",
    "                     columns=metabolite_idx)"
   ]
  },
  {
   "cell_type": "code",
   "execution_count": null,
   "id": "99a455e5",
   "metadata": {},
   "outputs": [],
   "source": [
    "ranks"
   ]
  },
  {
   "cell_type": "code",
   "execution_count": null,
   "id": "fe702e51",
   "metadata": {},
   "outputs": [],
   "source": [
    "for param in model.parameters():\n",
    "    print(param.shape)\n",
    "\n",
    "print(model.parameters)"
   ]
  },
  {
   "cell_type": "code",
   "execution_count": null,
   "id": "76a6f81b",
   "metadata": {},
   "outputs": [],
   "source": [
    "a = torch.randint(10, (9, 3), dtype=torch.float)\n",
    "b = torch.randint(10, (3,))\n",
    "a, a - a.mean(dim=0), a.mean(dim=0)"
   ]
  },
  {
   "cell_type": "code",
   "execution_count": null,
   "id": "aa9e8f31",
   "metadata": {},
   "outputs": [],
   "source": [
    "bp = model.get_ordination()"
   ]
  },
  {
   "cell_type": "code",
   "execution_count": null,
   "id": "6b850001",
   "metadata": {},
   "outputs": [],
   "source": [
    "import os.path"
   ]
  },
  {
   "cell_type": "code",
   "execution_count": null,
   "id": "8e3b2153",
   "metadata": {},
   "outputs": [],
   "source": [
    "bp_path = os.path.join(\"/Users/keeganevans/Desktop/\", \"biplot\")"
   ]
  },
  {
   "cell_type": "code",
   "execution_count": null,
   "id": "b18f859b",
   "metadata": {},
   "outputs": [],
   "source": [
    "bp.write(bp_path)"
   ]
  },
  {
   "cell_type": "code",
   "execution_count": null,
   "id": "34569491",
   "metadata": {},
   "outputs": [],
   "source": [
    "model.ranks_df"
   ]
  },
  {
   "cell_type": "markdown",
   "id": "46d440f7",
   "metadata": {},
   "source": []
  }
 ],
 "metadata": {
  "kernelspec": {
   "display_name": "Python 3 (ipykernel)",
   "language": "python",
   "name": "python3"
  },
  "language_info": {
   "codemirror_mode": {
    "name": "ipython",
    "version": 3
   },
   "file_extension": ".py",
   "mimetype": "text/x-python",
   "name": "python",
   "nbconvert_exporter": "python",
   "pygments_lexer": "ipython3",
   "version": "3.10.4"
  }
 },
 "nbformat": 4,
 "nbformat_minor": 5
}
