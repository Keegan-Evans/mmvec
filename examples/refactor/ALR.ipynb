{
 "cells": [
  {
   "cell_type": "code",
   "execution_count": null,
   "id": "bae1c8b8",
   "metadata": {},
   "outputs": [],
   "source": [
    "%load_ext autoreload"
   ]
  },
  {
   "cell_type": "code",
   "execution_count": 8,
   "id": "51124af9",
   "metadata": {},
   "outputs": [],
   "source": [
    "%autoreload 1"
   ]
  },
  {
   "cell_type": "code",
   "execution_count": null,
   "id": "bcc95c50",
   "metadata": {},
   "outputs": [],
   "source": []
  },
  {
   "cell_type": "code",
   "execution_count": 9,
   "id": "acadee5d",
   "metadata": {
    "scrolled": false
   },
   "outputs": [],
   "source": [
    "import biom\n",
    "import torch\n",
    "import torch.nn as nn\n",
    "%aimport mmvec.ALR\n",
    "\n",
    "import numpy as np"
   ]
  },
  {
   "cell_type": "code",
   "execution_count": 2,
   "id": "14d8bfab",
   "metadata": {},
   "outputs": [],
   "source": [
    "microbes = biom.load_table(\"./soil_microbes.biom\")\n",
    "metabolites = biom.load_table(\"./soil_metabolites.biom\")\n",
    "\n",
    "microbes = microbes.to_dataframe().T\n",
    "metabolites = metabolites.to_dataframe().T\n",
    "microbes = microbes.loc[metabolites.index]\n",
    "\n",
    "microbe_idx = microbes.columns\n",
    "metabolite_idx = metabolites.columns\n",
    "microbes = torch.tensor(microbes.values, dtype=torch.int)\n",
    "metabolites = torch.tensor(metabolites.values, dtype=torch.int64)\n",
    "\n",
    "microbe_relative_frequency = (microbes.T/microbes.sum(1)).T\n",
    "\n",
    "microbe_count = microbes.shape[1]\n",
    "metabolite_count = metabolites.shape[1]"
   ]
  },
  {
   "cell_type": "code",
   "execution_count": 19,
   "id": "9003e38d",
   "metadata": {},
   "outputs": [],
   "source": [
    "model = mmvec.ALR.MMvecALR(microbe_count, metabolite_count, 15, sigma_u=1, sigma_v=1)\n",
    "learning_rate = 1e-3\n",
    "batch_size = 200\n",
    "epochs = 10000\n",
    "optimizer = torch.optim.Adam(model.parameters(), lr=learning_rate, maximize=True)"
   ]
  },
  {
   "cell_type": "code",
   "execution_count": 11,
   "id": "8c8076ae",
   "metadata": {},
   "outputs": [
    {
     "data": {
      "text/plain": [
       "15"
      ]
     },
     "execution_count": 11,
     "metadata": {},
     "output_type": "execute_result"
    }
   ],
   "source": [
    "model.decoder.linear.weight.shape[1]"
   ]
  },
  {
   "cell_type": "code",
   "execution_count": 38,
   "id": "b977e212",
   "metadata": {},
   "outputs": [
    {
     "name": "stdout",
     "output_type": "stream",
     "text": [
      "loss: -1554443264.0\n",
      "Batch #: 0\n"
     ]
    },
    {
     "ename": "KeyboardInterrupt",
     "evalue": "",
     "output_type": "error",
     "traceback": [
      "\u001b[0;31m---------------------------------------------------------------------------\u001b[0m",
      "\u001b[0;31mKeyboardInterrupt\u001b[0m                         Traceback (most recent call last)",
      "Input \u001b[0;32mIn [38]\u001b[0m, in \u001b[0;36m<cell line: 1>\u001b[0;34m()\u001b[0m\n\u001b[0;32m----> 1\u001b[0m maybe \u001b[38;5;241m=\u001b[39m \u001b[43mmmvec\u001b[49m\u001b[38;5;241;43m.\u001b[39;49m\u001b[43mtrain\u001b[49m\u001b[38;5;241;43m.\u001b[39;49m\u001b[43mmmvec_training_loop\u001b[49m\u001b[43m(\u001b[49m\u001b[43mmicrobes\u001b[49m\u001b[38;5;241;43m=\u001b[39;49m\u001b[43mmicrobe_relative_frequency\u001b[49m\u001b[43m,\u001b[49m\n\u001b[1;32m      2\u001b[0m \u001b[43m                                        \u001b[49m\u001b[43mmetabolites\u001b[49m\u001b[38;5;241;43m=\u001b[39;49m\u001b[43mmetabolites\u001b[49m\u001b[43m,\u001b[49m\n\u001b[1;32m      3\u001b[0m \u001b[43m                            \u001b[49m\u001b[43mmodel\u001b[49m\u001b[38;5;241;43m=\u001b[39;49m\u001b[43mmodel\u001b[49m\u001b[43m,\u001b[49m\n\u001b[1;32m      4\u001b[0m \u001b[43m                            \u001b[49m\u001b[43moptimizer\u001b[49m\u001b[38;5;241;43m=\u001b[39;49m\u001b[43moptimizer\u001b[49m\u001b[43m,\u001b[49m\n\u001b[1;32m      5\u001b[0m \u001b[43m                            \u001b[49m\u001b[43mbatch_size\u001b[49m\u001b[38;5;241;43m=\u001b[39;49m\u001b[43mbatch_size\u001b[49m\u001b[43m,\u001b[49m\n\u001b[1;32m      6\u001b[0m \u001b[43m                            \u001b[49m\u001b[43mepochs\u001b[49m\u001b[38;5;241;43m=\u001b[39;49m\u001b[43mepochs\u001b[49m\u001b[43m)\u001b[49m\n",
      "File \u001b[0;32m~/work/qiime2/mmvec/mmvec/train.py:12\u001b[0m, in \u001b[0;36mmmvec_training_loop\u001b[0;34m(microbes, metabolites, model, optimizer, batch_size, epochs)\u001b[0m\n\u001b[1;32m      6\u001b[0m \u001b[38;5;28;01mfor\u001b[39;00m epoch \u001b[38;5;129;01min\u001b[39;00m \u001b[38;5;28mrange\u001b[39m(epochs):\n\u001b[1;32m      8\u001b[0m     draws \u001b[38;5;241m=\u001b[39m torch\u001b[38;5;241m.\u001b[39mmultinomial(microbes,\n\u001b[1;32m      9\u001b[0m                               batch_size,\n\u001b[1;32m     10\u001b[0m                               replacement\u001b[38;5;241m=\u001b[39m\u001b[38;5;28;01mTrue\u001b[39;00m)\u001b[38;5;241m.\u001b[39mT\n\u001b[0;32m---> 12\u001b[0m     mmvec_model \u001b[38;5;241m=\u001b[39m \u001b[43mmodel\u001b[49m\u001b[43m(\u001b[49m\u001b[43mdraws\u001b[49m\u001b[43m,\u001b[49m\u001b[43m \u001b[49m\u001b[43mmetabolites\u001b[49m\u001b[43m)\u001b[49m\n\u001b[1;32m     14\u001b[0m     optimizer\u001b[38;5;241m.\u001b[39mzero_grad()\n\u001b[1;32m     15\u001b[0m     mmvec_model\u001b[38;5;241m.\u001b[39mbackward()\n",
      "File \u001b[0;32m~/opt/miniconda3/envs/mmvec/lib/python3.10/site-packages/torch/nn/modules/module.py:1110\u001b[0m, in \u001b[0;36mModule._call_impl\u001b[0;34m(self, *input, **kwargs)\u001b[0m\n\u001b[1;32m   1106\u001b[0m \u001b[38;5;66;03m# If we don't have any hooks, we want to skip the rest of the logic in\u001b[39;00m\n\u001b[1;32m   1107\u001b[0m \u001b[38;5;66;03m# this function, and just call forward.\u001b[39;00m\n\u001b[1;32m   1108\u001b[0m \u001b[38;5;28;01mif\u001b[39;00m \u001b[38;5;129;01mnot\u001b[39;00m (\u001b[38;5;28mself\u001b[39m\u001b[38;5;241m.\u001b[39m_backward_hooks \u001b[38;5;129;01mor\u001b[39;00m \u001b[38;5;28mself\u001b[39m\u001b[38;5;241m.\u001b[39m_forward_hooks \u001b[38;5;129;01mor\u001b[39;00m \u001b[38;5;28mself\u001b[39m\u001b[38;5;241m.\u001b[39m_forward_pre_hooks \u001b[38;5;129;01mor\u001b[39;00m _global_backward_hooks\n\u001b[1;32m   1109\u001b[0m         \u001b[38;5;129;01mor\u001b[39;00m _global_forward_hooks \u001b[38;5;129;01mor\u001b[39;00m _global_forward_pre_hooks):\n\u001b[0;32m-> 1110\u001b[0m     \u001b[38;5;28;01mreturn\u001b[39;00m \u001b[43mforward_call\u001b[49m\u001b[43m(\u001b[49m\u001b[38;5;241;43m*\u001b[39;49m\u001b[38;5;28;43minput\u001b[39;49m\u001b[43m,\u001b[49m\u001b[43m \u001b[49m\u001b[38;5;241;43m*\u001b[39;49m\u001b[38;5;241;43m*\u001b[39;49m\u001b[43mkwargs\u001b[49m\u001b[43m)\u001b[49m\n\u001b[1;32m   1111\u001b[0m \u001b[38;5;66;03m# Do not call functions when jit is used\u001b[39;00m\n\u001b[1;32m   1112\u001b[0m full_backward_hooks, non_full_backward_hooks \u001b[38;5;241m=\u001b[39m [], []\n",
      "File \u001b[0;32m~/work/qiime2/mmvec/mmvec/ALR.py:56\u001b[0m, in \u001b[0;36mMMvecALR.forward\u001b[0;34m(self, X, Y)\u001b[0m\n\u001b[1;32m     50\u001b[0m y_pred \u001b[38;5;241m=\u001b[39m \u001b[38;5;28mself\u001b[39m\u001b[38;5;241m.\u001b[39mdecoder(z)\n\u001b[1;32m     52\u001b[0m forward_dist \u001b[38;5;241m=\u001b[39m Multinomial(total_count\u001b[38;5;241m=\u001b[39m\u001b[38;5;241m0\u001b[39m,\n\u001b[1;32m     53\u001b[0m                            validate_args\u001b[38;5;241m=\u001b[39m\u001b[38;5;28;01mFalse\u001b[39;00m,\n\u001b[1;32m     54\u001b[0m                            probs\u001b[38;5;241m=\u001b[39my_pred)\n\u001b[0;32m---> 56\u001b[0m forward_dist \u001b[38;5;241m=\u001b[39m \u001b[43mforward_dist\u001b[49m\u001b[38;5;241;43m.\u001b[39;49m\u001b[43mlog_prob\u001b[49m\u001b[43m(\u001b[49m\u001b[43mY\u001b[49m\u001b[43m)\u001b[49m\n\u001b[1;32m     58\u001b[0m l_y \u001b[38;5;241m=\u001b[39m forward_dist\u001b[38;5;241m.\u001b[39mmean(\u001b[38;5;241m0\u001b[39m)\u001b[38;5;241m.\u001b[39mmean()\n\u001b[1;32m     60\u001b[0m \u001b[38;5;66;03m# LU\u001b[39;00m\n",
      "\u001b[0;31mKeyboardInterrupt\u001b[0m: "
     ]
    }
   ],
   "source": [
    "maybe = mmvec.train.mmvec_training_loop(microbes=microbe_relative_frequency,\n",
    "                                        metabolites=metabolites,\n",
    "                            model=model,\n",
    "                            optimizer=optimizer,\n",
    "                            batch_size=batch_size,\n",
    "                            epochs=epochs)"
   ]
  },
  {
   "cell_type": "code",
   "execution_count": 31,
   "id": "cbea21c6",
   "metadata": {},
   "outputs": [
    {
     "data": {
      "text/plain": [
       "Parameter containing:\n",
       "tensor([-0.2304, -0.1210, -0.2237,  1.5584, -0.0357, -0.2358, -0.3364, -0.1522,\n",
       "         0.1831,  0.3266, -0.3287,  0.6406, -0.4283, -0.4332, -0.3035, -0.2616,\n",
       "        -0.3637, -0.0561,  0.3958, -0.4435,  0.1320,  0.3295,  0.3745, -0.3914,\n",
       "        -0.2479,  1.1489,  0.0920,  0.1924,  0.8578, -0.4792, -0.3238, -0.2298,\n",
       "         0.0590, -0.2976,  0.4175, -0.1658,  0.5618,  0.0517, -0.4560,  0.0813,\n",
       "         1.3941,  0.2018, -0.4606,  0.0243, -0.3180,  0.2470, -0.2259,  0.0057,\n",
       "         0.8352, -0.4047,  0.0856, -0.3115, -0.2540, -0.4270, -0.2389, -0.3265,\n",
       "        -0.0604, -0.1562,  0.2893, -0.3153,  0.2701, -0.2802, -0.0060, -0.0257,\n",
       "        -0.1017, -0.2101, -0.4707, -0.3083, -0.4171,  0.9620, -0.2070, -0.0076,\n",
       "        -0.5172, -0.4790, -0.3156,  0.4800, -0.1798, -0.1373, -0.5174, -0.0725,\n",
       "        -0.3061, -0.2664,  0.0945, -0.4450], requires_grad=True)"
      ]
     },
     "execution_count": 31,
     "metadata": {},
     "output_type": "execute_result"
    }
   ],
   "source": [
    "model.decoder.linear.bias"
   ]
  },
  {
   "cell_type": "code",
   "execution_count": 35,
   "id": "2019c1ff",
   "metadata": {},
   "outputs": [
    {
     "ename": "TypeError",
     "evalue": "unsupported operand type(s) for @: 'Embedding' and 'Linear'",
     "output_type": "error",
     "traceback": [
      "\u001b[0;31m---------------------------------------------------------------------------\u001b[0m",
      "\u001b[0;31mTypeError\u001b[0m                                 Traceback (most recent call last)",
      "Input \u001b[0;32mIn [35]\u001b[0m, in \u001b[0;36m<cell line: 1>\u001b[0;34m()\u001b[0m\n\u001b[0;32m----> 1\u001b[0m \u001b[43mmodel\u001b[49m\u001b[38;5;241;43m.\u001b[39;49m\u001b[43mencoder\u001b[49m\u001b[43m \u001b[49m\u001b[38;5;241;43m@\u001b[39;49m\u001b[43m \u001b[49m\u001b[43mmodel\u001b[49m\u001b[38;5;241;43m.\u001b[39;49m\u001b[43mdecoder\u001b[49m\u001b[38;5;241;43m.\u001b[39;49m\u001b[43mlinear\u001b[49m\n",
      "\u001b[0;31mTypeError\u001b[0m: unsupported operand type(s) for @: 'Embedding' and 'Linear'"
     ]
    }
   ],
   "source": [
    "model.encoder @ model.decoder.linear"
   ]
  },
  {
   "cell_type": "code",
   "execution_count": 27,
   "id": "a5f97b6d",
   "metadata": {},
   "outputs": [
    {
     "ename": "NameError",
     "evalue": "name 'pd' is not defined",
     "output_type": "error",
     "traceback": [
      "\u001b[0;31m---------------------------------------------------------------------------\u001b[0m",
      "\u001b[0;31mNameError\u001b[0m                                 Traceback (most recent call last)",
      "Input \u001b[0;32mIn [27]\u001b[0m, in \u001b[0;36m<cell line: 1>\u001b[0;34m()\u001b[0m\n\u001b[0;32m----> 1\u001b[0m ranks \u001b[38;5;241m=\u001b[39m \u001b[43mpd\u001b[49m\u001b[38;5;241m.\u001b[39mDataFrame(model\u001b[38;5;241m.\u001b[39mranks(),\n\u001b[1;32m      2\u001b[0m                      index\u001b[38;5;241m=\u001b[39mmicrobe_idx,\n\u001b[1;32m      3\u001b[0m                      columns\u001b[38;5;241m=\u001b[39mmetabolite_idx)\n",
      "\u001b[0;31mNameError\u001b[0m: name 'pd' is not defined"
     ]
    }
   ],
   "source": [
    "ranks = pd.DataFrame(model.ranks(),\n",
    "                     index=microbe_idx,\n",
    "                     columns=metabolite_idx)"
   ]
  },
  {
   "cell_type": "code",
   "execution_count": null,
   "id": "0fde6a1e",
   "metadata": {},
   "outputs": [],
   "source": [
    "model.decoder.linear.weight.shape"
   ]
  },
  {
   "cell_type": "code",
   "execution_count": null,
   "id": "fe702e51",
   "metadata": {},
   "outputs": [],
   "source": [
    "for param in model.parameters():\n",
    "    print(param.shape)\n",
    "\n",
    "print(model.parameters)"
   ]
  },
  {
   "cell_type": "code",
   "execution_count": null,
   "id": "aa9e8f31",
   "metadata": {},
   "outputs": [],
   "source": []
  },
  {
   "cell_type": "markdown",
   "id": "46d440f7",
   "metadata": {},
   "source": []
  }
 ],
 "metadata": {
  "kernelspec": {
   "display_name": "Python 3 (ipykernel)",
   "language": "python",
   "name": "python3"
  },
  "language_info": {
   "codemirror_mode": {
    "name": "ipython",
    "version": 3
   },
   "file_extension": ".py",
   "mimetype": "text/x-python",
   "name": "python",
   "nbconvert_exporter": "python",
   "pygments_lexer": "ipython3",
   "version": "3.10.4"
  }
 },
 "nbformat": 4,
 "nbformat_minor": 5
}
