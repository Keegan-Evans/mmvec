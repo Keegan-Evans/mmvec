{
 "cells": [
  {
   "cell_type": "code",
   "execution_count": 42,
   "id": "3d724bfa",
   "metadata": {},
   "outputs": [],
   "source": [
    "import pandas as pd\n",
    "import torch\n",
    "import torch.nn as nn\n",
    "from torch.utils.data import Dataset, DataLoader\n",
    "from torch.distributions import Multinomial\n",
    "import biom\n",
    "from biom import load_table, Table\n",
    "from biom.util import biom_open\n",
    "\n",
    "from mmvec.util import split_tables, format_params"
   ]
  },
  {
   "cell_type": "code",
   "execution_count": 84,
   "id": "2950e034",
   "metadata": {},
   "outputs": [],
   "source": [
    "class MMVec(nn.Module):\n",
    "    def __init__(self, num_microbes, num_metabolites, latent_dim):\n",
    "        super().__init__()\n",
    "        self.encoder = nn.Embedding(num_microbes, latent_dim)\n",
    "        self.decoder = nn.Sequential(\n",
    "            nn.Linear(latent_dim, num_metabolites),\n",
    "            nn.Softmax(dim=0)\n",
    "        )\n",
    "        \n",
    "    # X = Batch x num_microbesl\n",
    "    # Y = Batch_size x num_metaboites\n",
    "    def forward(self, X, Y):\n",
    "        z = self.encoder(X)\n",
    "        y_pred = self.decoder(z)\n",
    "        print(y_pred.shape)\n",
    "        print(Y.shape)\n",
    "        # total_count=0 and validate_args=False allows skipping being concerned\n",
    "        # about total count when calling log_prob\n",
    "        lp = Multinomial(total_count=0, validate_args=False, probs=y_pred).log_prob(Y)\n",
    "        return lp"
   ]
  },
  {
   "cell_type": "markdown",
   "id": "366ad38d",
   "metadata": {},
   "source": [
    "Getting data prepped:"
   ]
  },
  {
   "cell_type": "code",
   "execution_count": 44,
   "id": "53bc7bad",
   "metadata": {},
   "outputs": [],
   "source": [
    "# manually to start\n",
    "microbes = load_table(\"./soil_microbes.biom\")\n",
    "metabolites = load_table(\"./soil_metabolites.biom\")\n",
    "\n",
    "# X = microbes.to_dataframe().T\n",
    "# Y = metabolites.to_dataframe().T\n",
    "# X = X.loc[Y.index]\n",
    "\n",
    "# trainX = X.iloc[:-2]\n",
    "# trainY = Y.iloc[:-2]\n",
    "# testX = X.iloc[-2:]\n",
    "# testY = Y.iloc[-2:]\n",
    "\n",
    "# # index dictionaries for the inputs\n",
    "# microbeIdxs = {microbe: i for i, microbe in enumerate(trainX)}\n",
    "# metaboliteIdxs = {metabolite: i for i, metabolite in enumerate(trainY)}\n",
    "\n",
    "# print(microbeIdxs, \"\\n------\\n\", metaboliteIdxs, \"\\n----\\n\", Y)\n",
    "# exX = torch.tensor(trainX.values, requires_grad=True)\n",
    "# exY = torch.tensor(trainY.values, requires_grad=True)\n"
   ]
  },
  {
   "cell_type": "markdown",
   "id": "ee8094aa",
   "metadata": {},
   "source": [
    "#### put the data in a dataloader(pytorch iterator)"
   ]
  },
  {
   "cell_type": "code",
   "execution_count": 45,
   "id": "cfac798c",
   "metadata": {},
   "outputs": [],
   "source": [
    "class MicrobeMetaboliteData(Dataset):\n",
    "    def __init__(self, microbes: biom.table, metabolites: biom.table):\n",
    "        # arrange\n",
    "        self.microbes = microbes.to_dataframe().T   \n",
    "        self.metabolites = metabolites.to_dataframe().T\n",
    "        \n",
    "        # only samples that have results\n",
    "        self.microbes = self.microbes.loc[self.metabolites.index]\n",
    "        \n",
    "        # microbe index\n",
    "#         self.microbe_idxs = {microbe: i for i, microbe in enumerate(self.microbes)}\n",
    "        \n",
    "        # make tensors\n",
    "        self.microbes = torch.tensor(self.microbes.values, dtype=torch.int)\n",
    "        # dtype must be integer to avoid floating point errors in multinomial\n",
    "        self.metabolites = torch.tensor(self.metabolites.values, dtype=torch.int64)\n",
    "        \n",
    "        # inputs in dict so indexs available...not sure if we need this\n",
    "        self.idxs = {i: sample for i, sample in enumerate(self.microbes)}\n",
    "        \n",
    "        self.microbe_count = self.microbes.shape[1]\n",
    "        self.metabolite_count = self.metabolites.shape[1]\n",
    "        \n",
    "       \n",
    "    def __len__(self):\n",
    "        return len(self.microbes)\n",
    "    \n",
    "    def __iter__(self, batch_size):\n",
    "        # What do we want out?\n",
    "        # x random feature indexes, where x = the total number of counts in sample\n",
    "        # the expected outputs for this sample\n",
    "        \n",
    "        # get the total number of observed features in the sample\n",
    "#         sample_microbes = self.microbes[idx]\n",
    "#         sample_microbe_obs = sample_microbes.sum()\n",
    "        \n",
    "        # generate indexes to feed to the embedding\n",
    "        relative_frequency = (train_dataset.microbes.T/train_dataset.microbes.sum(1)).T\n",
    "        batch_multinomial = torch.multinomial(relative_frequency, batch_size).T\n",
    "       \n",
    "        return (batch_multinomial, self.metabolites)"
   ]
  },
  {
   "cell_type": "code",
   "execution_count": 46,
   "id": "7aa4aced",
   "metadata": {},
   "outputs": [],
   "source": [
    "train_dataset = MicrobeMetaboliteData(microbes, metabolites)\n",
    "train_dataloader = DataLoader(train_dataset, batch_size=1,\n",
    "                                 shuffle=True)\n",
    "\n",
    "# test_dataset = MicrobeMetaboliteData(testX, testY)\n",
    "# test_dataloader = DataLoader(test_dataset, batch_size=8,\n",
    "#                                  shuffle=True)"
   ]
  },
  {
   "cell_type": "markdown",
   "id": "30f68a9b",
   "metadata": {},
   "source": [
    "## Training..."
   ]
  },
  {
   "cell_type": "code",
   "execution_count": 85,
   "id": "04e344ce",
   "metadata": {},
   "outputs": [],
   "source": [
    "mmvec_model = MMVec(train_dataset.microbe_count, train_dataset.metabolite_count, 10)\n",
    "loss_fn = nn.MSELoss\n",
    "optimizer = torch.optim.Adam"
   ]
  },
  {
   "cell_type": "code",
   "execution_count": 48,
   "id": "46b487f0",
   "metadata": {},
   "outputs": [],
   "source": [
    "learning_rate = 1e-3\n",
    "batch_size = 4\n",
    "epochs = 25"
   ]
  },
  {
   "cell_type": "code",
   "execution_count": 129,
   "id": "c9b9cf42",
   "metadata": {},
   "outputs": [
    {
     "name": "stdout",
     "output_type": "stream",
     "text": [
      "torch.Size([2, 3, 85])\n",
      "torch.Size([2, 85])\n"
     ]
    },
    {
     "ename": "RuntimeError",
     "evalue": "The size of tensor a (3) must match the size of tensor b (2) at non-singleton dimension 1",
     "output_type": "error",
     "traceback": [
      "\u001b[0;31m---------------------------------------------------------------------------\u001b[0m",
      "\u001b[0;31mRuntimeError\u001b[0m                              Traceback (most recent call last)",
      "Input \u001b[0;32mIn [129]\u001b[0m, in \u001b[0;36m<cell line: 1>\u001b[0;34m()\u001b[0m\n\u001b[0;32m----> 1\u001b[0m \u001b[43mmmvec_model\u001b[49m\u001b[43m(\u001b[49m\u001b[43mtorch\u001b[49m\u001b[38;5;241;43m.\u001b[39;49m\u001b[43mtensor\u001b[49m\u001b[43m(\u001b[49m\u001b[43m[\u001b[49m\u001b[43m[\u001b[49m\u001b[38;5;241;43m0\u001b[39;49m\u001b[43m,\u001b[49m\u001b[43m \u001b[49m\u001b[38;5;241;43m1\u001b[39;49m\u001b[43m,\u001b[49m\u001b[43m \u001b[49m\u001b[38;5;241;43m2\u001b[39;49m\u001b[43m]\u001b[49m\u001b[43m,\u001b[49m\n\u001b[1;32m      2\u001b[0m \u001b[43m                          \u001b[49m\u001b[43m[\u001b[49m\u001b[38;5;241;43m0\u001b[39;49m\u001b[43m,\u001b[49m\u001b[43m \u001b[49m\u001b[38;5;241;43m1\u001b[39;49m\u001b[43m,\u001b[49m\u001b[43m \u001b[49m\u001b[38;5;241;43m2\u001b[39;49m\u001b[43m]\u001b[49m\u001b[43m]\u001b[49m\u001b[43m)\u001b[49m\u001b[43m,\u001b[49m\u001b[43m \u001b[49m\n\u001b[1;32m      3\u001b[0m \u001b[43m           \u001b[49m\u001b[43mtrain_dataset\u001b[49m\u001b[38;5;241;43m.\u001b[39;49m\u001b[43mmetabolites\u001b[49m\u001b[43m[\u001b[49m\u001b[38;5;241;43m0\u001b[39;49m\u001b[43m:\u001b[49m\u001b[38;5;241;43m2\u001b[39;49m\u001b[43m,\u001b[49m\u001b[43m \u001b[49m\u001b[43m:\u001b[49m\u001b[43m]\u001b[49m\u001b[43m)\u001b[49m\n",
      "File \u001b[0;32m~/opt/miniconda3/envs/mmvec_dev/lib/python3.8/site-packages/torch/nn/modules/module.py:1110\u001b[0m, in \u001b[0;36mModule._call_impl\u001b[0;34m(self, *input, **kwargs)\u001b[0m\n\u001b[1;32m   1106\u001b[0m \u001b[38;5;66;03m# If we don't have any hooks, we want to skip the rest of the logic in\u001b[39;00m\n\u001b[1;32m   1107\u001b[0m \u001b[38;5;66;03m# this function, and just call forward.\u001b[39;00m\n\u001b[1;32m   1108\u001b[0m \u001b[38;5;28;01mif\u001b[39;00m \u001b[38;5;129;01mnot\u001b[39;00m (\u001b[38;5;28mself\u001b[39m\u001b[38;5;241m.\u001b[39m_backward_hooks \u001b[38;5;129;01mor\u001b[39;00m \u001b[38;5;28mself\u001b[39m\u001b[38;5;241m.\u001b[39m_forward_hooks \u001b[38;5;129;01mor\u001b[39;00m \u001b[38;5;28mself\u001b[39m\u001b[38;5;241m.\u001b[39m_forward_pre_hooks \u001b[38;5;129;01mor\u001b[39;00m _global_backward_hooks\n\u001b[1;32m   1109\u001b[0m         \u001b[38;5;129;01mor\u001b[39;00m _global_forward_hooks \u001b[38;5;129;01mor\u001b[39;00m _global_forward_pre_hooks):\n\u001b[0;32m-> 1110\u001b[0m     \u001b[38;5;28;01mreturn\u001b[39;00m \u001b[43mforward_call\u001b[49m\u001b[43m(\u001b[49m\u001b[38;5;241;43m*\u001b[39;49m\u001b[38;5;28;43minput\u001b[39;49m\u001b[43m,\u001b[49m\u001b[43m \u001b[49m\u001b[38;5;241;43m*\u001b[39;49m\u001b[38;5;241;43m*\u001b[39;49m\u001b[43mkwargs\u001b[49m\u001b[43m)\u001b[49m\n\u001b[1;32m   1111\u001b[0m \u001b[38;5;66;03m# Do not call functions when jit is used\u001b[39;00m\n\u001b[1;32m   1112\u001b[0m full_backward_hooks, non_full_backward_hooks \u001b[38;5;241m=\u001b[39m [], []\n",
      "Input \u001b[0;32mIn [84]\u001b[0m, in \u001b[0;36mMMVec.forward\u001b[0;34m(self, X, Y)\u001b[0m\n\u001b[1;32m     15\u001b[0m         \u001b[38;5;28mprint\u001b[39m(y_pred\u001b[38;5;241m.\u001b[39mshape)\n\u001b[1;32m     16\u001b[0m         \u001b[38;5;28mprint\u001b[39m(Y\u001b[38;5;241m.\u001b[39mshape)\n\u001b[0;32m---> 17\u001b[0m         lp \u001b[38;5;241m=\u001b[39m \u001b[43mMultinomial\u001b[49m\u001b[43m(\u001b[49m\u001b[43mtotal_count\u001b[49m\u001b[38;5;241;43m=\u001b[39;49m\u001b[38;5;241;43m0\u001b[39;49m\u001b[43m,\u001b[49m\u001b[43m \u001b[49m\u001b[43mvalidate_args\u001b[49m\u001b[38;5;241;43m=\u001b[39;49m\u001b[38;5;28;43;01mFalse\u001b[39;49;00m\u001b[43m,\u001b[49m\u001b[43m \u001b[49m\u001b[43mprobs\u001b[49m\u001b[38;5;241;43m=\u001b[39;49m\u001b[43my_pred\u001b[49m\u001b[43m)\u001b[49m\u001b[38;5;241;43m.\u001b[39;49m\u001b[43mlog_prob\u001b[49m\u001b[43m(\u001b[49m\u001b[43mY\u001b[49m\u001b[43m)\u001b[49m\n\u001b[1;32m     19\u001b[0m \u001b[38;5;66;03m#         sample_microbe_obs = X.sum()\u001b[39;00m\n\u001b[1;32m     20\u001b[0m         \n\u001b[1;32m     21\u001b[0m \u001b[38;5;66;03m#         drawn_idxs = torch.randint(num_microbes, (1, sample_microbe_obs))\u001b[39;00m\n\u001b[0;32m   (...)\u001b[0m\n\u001b[1;32m     25\u001b[0m \u001b[38;5;66;03m#             pred_y = self.decoder(z)\u001b[39;00m\n\u001b[1;32m     26\u001b[0m \u001b[38;5;66;03m#             lp = Multinomial(pred_y).log_prob(Y)\u001b[39;00m\n\u001b[1;32m     28\u001b[0m         \u001b[38;5;28;01mreturn\u001b[39;00m lp\n",
      "File \u001b[0;32m~/opt/miniconda3/envs/mmvec_dev/lib/python3.8/site-packages/torch/distributions/multinomial.py:124\u001b[0m, in \u001b[0;36mMultinomial.log_prob\u001b[0;34m(self, value)\u001b[0m\n\u001b[1;32m    122\u001b[0m \u001b[38;5;28;01mif\u001b[39;00m \u001b[38;5;28mself\u001b[39m\u001b[38;5;241m.\u001b[39m_validate_args:\n\u001b[1;32m    123\u001b[0m     \u001b[38;5;28mself\u001b[39m\u001b[38;5;241m.\u001b[39m_validate_sample(value)\n\u001b[0;32m--> 124\u001b[0m logits, value \u001b[38;5;241m=\u001b[39m \u001b[43mbroadcast_all\u001b[49m\u001b[43m(\u001b[49m\u001b[38;5;28;43mself\u001b[39;49m\u001b[38;5;241;43m.\u001b[39;49m\u001b[43mlogits\u001b[49m\u001b[43m,\u001b[49m\u001b[43m \u001b[49m\u001b[43mvalue\u001b[49m\u001b[43m)\u001b[49m\n\u001b[1;32m    125\u001b[0m logits \u001b[38;5;241m=\u001b[39m logits\u001b[38;5;241m.\u001b[39mclone(memory_format\u001b[38;5;241m=\u001b[39mtorch\u001b[38;5;241m.\u001b[39mcontiguous_format)\n\u001b[1;32m    126\u001b[0m log_factorial_n \u001b[38;5;241m=\u001b[39m torch\u001b[38;5;241m.\u001b[39mlgamma(value\u001b[38;5;241m.\u001b[39msum(\u001b[38;5;241m-\u001b[39m\u001b[38;5;241m1\u001b[39m) \u001b[38;5;241m+\u001b[39m \u001b[38;5;241m1\u001b[39m)\n",
      "File \u001b[0;32m~/opt/miniconda3/envs/mmvec_dev/lib/python3.8/site-packages/torch/distributions/utils.py:40\u001b[0m, in \u001b[0;36mbroadcast_all\u001b[0;34m(*values)\u001b[0m\n\u001b[1;32m     37\u001b[0m     new_values \u001b[38;5;241m=\u001b[39m [v \u001b[38;5;28;01mif\u001b[39;00m \u001b[38;5;28misinstance\u001b[39m(v, torch\u001b[38;5;241m.\u001b[39mTensor) \u001b[38;5;129;01mor\u001b[39;00m has_torch_function((v,)) \u001b[38;5;28;01melse\u001b[39;00m torch\u001b[38;5;241m.\u001b[39mtensor(v, \u001b[38;5;241m*\u001b[39m\u001b[38;5;241m*\u001b[39moptions)\n\u001b[1;32m     38\u001b[0m                   \u001b[38;5;28;01mfor\u001b[39;00m v \u001b[38;5;129;01min\u001b[39;00m values]\n\u001b[1;32m     39\u001b[0m     \u001b[38;5;28;01mreturn\u001b[39;00m torch\u001b[38;5;241m.\u001b[39mbroadcast_tensors(\u001b[38;5;241m*\u001b[39mnew_values)\n\u001b[0;32m---> 40\u001b[0m \u001b[38;5;28;01mreturn\u001b[39;00m \u001b[43mtorch\u001b[49m\u001b[38;5;241;43m.\u001b[39;49m\u001b[43mbroadcast_tensors\u001b[49m\u001b[43m(\u001b[49m\u001b[38;5;241;43m*\u001b[39;49m\u001b[43mvalues\u001b[49m\u001b[43m)\u001b[49m\n",
      "File \u001b[0;32m~/opt/miniconda3/envs/mmvec_dev/lib/python3.8/site-packages/torch/functional.py:75\u001b[0m, in \u001b[0;36mbroadcast_tensors\u001b[0;34m(*tensors)\u001b[0m\n\u001b[1;32m     73\u001b[0m \u001b[38;5;28;01mif\u001b[39;00m has_torch_function(tensors):\n\u001b[1;32m     74\u001b[0m     \u001b[38;5;28;01mreturn\u001b[39;00m handle_torch_function(broadcast_tensors, tensors, \u001b[38;5;241m*\u001b[39mtensors)\n\u001b[0;32m---> 75\u001b[0m \u001b[38;5;28;01mreturn\u001b[39;00m \u001b[43m_VF\u001b[49m\u001b[38;5;241;43m.\u001b[39;49m\u001b[43mbroadcast_tensors\u001b[49m\u001b[43m(\u001b[49m\u001b[43mtensors\u001b[49m\u001b[43m)\u001b[49m\n",
      "\u001b[0;31mRuntimeError\u001b[0m: The size of tensor a (3) must match the size of tensor b (2) at non-singleton dimension 1"
     ]
    }
   ],
   "source": [
    "mmvec_model(torch.tensor([[1], [2], [3], [0]]), \n",
    "           train_dataset.metabolites[0:2, :].T)"
   ]
  },
  {
   "cell_type": "code",
   "execution_count": 130,
   "id": "9035dfbf",
   "metadata": {},
   "outputs": [
    {
     "name": "stdout",
     "output_type": "stream",
     "text": [
      "torch.Size([2, 3, 85])\n",
      "torch.Size([3, 85])\n"
     ]
    }
   ],
   "source": [
    "out1 = mmvec_model(torch.tensor([[0, 0, 0],\n",
    "                                 [1, 1, 1]]), \n",
    "           train_dataset.metabolites[0:3, :])"
   ]
  },
  {
   "cell_type": "code",
   "execution_count": 135,
   "id": "881a63df",
   "metadata": {},
   "outputs": [
    {
     "data": {
      "text/plain": [
       "tensor([[-1.3880e+10, -7.8928e+09, -1.4143e+10],\n",
       "        [-1.4395e+10, -9.9818e+09, -1.6388e+10]], grad_fn=<AddBackward0>)"
      ]
     },
     "execution_count": 135,
     "metadata": {},
     "output_type": "execute_result"
    }
   ],
   "source": [
    "out1"
   ]
  },
  {
   "cell_type": "code",
   "execution_count": 121,
   "id": "95176038",
   "metadata": {},
   "outputs": [
    {
     "data": {
      "text/plain": [
       "tensor(-2.8275e+10, grad_fn=<AddBackward0>)"
      ]
     },
     "execution_count": 121,
     "metadata": {},
     "output_type": "execute_result"
    }
   ],
   "source": [
    "out1[0, 0] + out1[1, 0]"
   ]
  },
  {
   "cell_type": "code",
   "execution_count": 117,
   "id": "e17cc447",
   "metadata": {},
   "outputs": [
    {
     "data": {
      "text/plain": [
       "tensor(-1.7875e+10, grad_fn=<AddBackward0>)"
      ]
     },
     "execution_count": 117,
     "metadata": {},
     "output_type": "execute_result"
    }
   ],
   "source": [
    "out1[0, 1] + out1[1, 1]"
   ]
  },
  {
   "cell_type": "code",
   "execution_count": 137,
   "id": "e6fbdc1f",
   "metadata": {},
   "outputs": [
    {
     "data": {
      "text/plain": [
       "tensor([-1.4138e+10, -8.9373e+09, -1.5266e+10], grad_fn=<MeanBackward1>)"
      ]
     },
     "execution_count": 137,
     "metadata": {},
     "output_type": "execute_result"
    }
   ],
   "source": [
    "out1.mean(0)"
   ]
  },
  {
   "cell_type": "code",
   "execution_count": 146,
   "id": "ff33736f",
   "metadata": {},
   "outputs": [
    {
     "data": {
      "text/plain": [
       "tensor([20428, 21871, 26627, 26559, 24862, 19972, 21567, 20785, 21752, 23502,\n",
       "        20983, 23540, 28194, 23107, 22898, 21088, 19254, 20009, 17848])"
      ]
     },
     "execution_count": 146,
     "metadata": {},
     "output_type": "execute_result"
    }
   ],
   "source": [
    "train_dataset.microbes.sum(1)"
   ]
  },
  {
   "cell_type": "code",
   "execution_count": 159,
   "id": "72287074",
   "metadata": {},
   "outputs": [],
   "source": [
    "relative_frequency = (train_dataset.microbes.T/train_dataset.microbes.sum(1)).T"
   ]
  },
  {
   "cell_type": "code",
   "execution_count": 162,
   "id": "a375ed31",
   "metadata": {},
   "outputs": [
    {
     "data": {
      "text/plain": [
       "torch.Size([50, 19])"
      ]
     },
     "execution_count": 162,
     "metadata": {},
     "output_type": "execute_result"
    }
   ],
   "source": [
    "torch.multinomial(relative_frequency, 50).T"
   ]
  },
  {
   "cell_type": "code",
   "execution_count": 163,
   "id": "db23deaf",
   "metadata": {},
   "outputs": [
    {
     "name": "stdout",
     "output_type": "stream",
     "text": [
      "torch.Size([50, 19, 85])\n",
      "torch.Size([19, 85])\n"
     ]
    }
   ],
   "source": [
    "batched_out = mmvec_model(torch.multinomial(relative_frequency, 50).T, train_dataset.metabolites)"
   ]
  },
  {
   "cell_type": "code",
   "execution_count": 166,
   "id": "b06e31ac",
   "metadata": {},
   "outputs": [
    {
     "data": {
      "text/plain": [
       "tensor(-1.3293e+10, grad_fn=<MeanBackward0>)"
      ]
     },
     "execution_count": 166,
     "metadata": {},
     "output_type": "execute_result"
    }
   ],
   "source": [
    "batched_out.mean(0).mean()"
   ]
  }
 ],
 "metadata": {
  "kernelspec": {
   "display_name": "Python 3 (ipykernel)",
   "language": "python",
   "name": "python3"
  },
  "language_info": {
   "codemirror_mode": {
    "name": "ipython",
    "version": 3
   },
   "file_extension": ".py",
   "mimetype": "text/x-python",
   "name": "python",
   "nbconvert_exporter": "python",
   "pygments_lexer": "ipython3",
   "version": "3.8.12"
  }
 },
 "nbformat": 4,
 "nbformat_minor": 5
}
