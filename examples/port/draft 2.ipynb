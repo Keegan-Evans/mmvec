{
 "cells": [
  {
   "cell_type": "code",
   "execution_count": 1,
   "id": "d03b9d82",
   "metadata": {},
   "outputs": [],
   "source": [
    "import pandas as pd\n",
    "import torch\n",
    "import torch.nn as nn\n",
    "from torch.utils.data import Dataset, DataLoader, IterableDataset\n",
    "from torch.distributions import Multinomial\n",
    "import biom\n",
    "from biom import load_table, Table\n",
    "from biom.util import biom_open\n",
    "\n",
    "from mmvec.util import split_tables, format_params"
   ]
  },
  {
   "cell_type": "code",
   "execution_count": 2,
   "id": "46bf1b27",
   "metadata": {},
   "outputs": [],
   "source": [
    "# some example data\n",
    "microbes = load_table(\"./soil_microbes.biom\")\n",
    "metabolites = load_table(\"./soil_metabolites.biom\")"
   ]
  },
  {
   "cell_type": "code",
   "execution_count": 3,
   "id": "b2bbd167",
   "metadata": {},
   "outputs": [],
   "source": [
    "class MicrobeMetaboliteData(Dataset):\n",
    "    def __init__(self, microbes: biom.table, metabolites: biom.table):\n",
    "        # arrange\n",
    "        self.microbes = microbes.to_dataframe().T   \n",
    "        self.metabolites = metabolites.to_dataframe().T\n",
    "        \n",
    "        # only samples that have results\n",
    "        self.microbes = self.microbes.loc[self.metabolites.index]\n",
    "      \n",
    "        # make tensors\n",
    "        self.microbes = torch.tensor(self.microbes.values, dtype=torch.int)\n",
    "        self.metabolites = torch.tensor(self.metabolites.values, dtype=torch.int64)\n",
    "        \n",
    "        # counts\n",
    "        \n",
    "        self.microbe_count = self.microbes.shape[1]\n",
    "        self.metabolite_count = self.metabolites.shape[1]\n",
    "        \n",
    "        # relative frequencies\n",
    "        self.microbe_relative_frequency = (self.microbes.T\n",
    "                                      / self.microbes.sum(1)\n",
    "                                     ).T\n",
    "        \n",
    "        self.metabolite_relative_frequency = (self.metabolites.T\n",
    "                                     / self.metabolites.sum(1)\n",
    "                                    ).T\n",
    "        \n",
    "        self.total_microbe_observations = self.microbes.sum()\n",
    "       \n",
    "    def __len__(self):\n",
    "        return self.total_microbe_observations"
   ]
  },
  {
   "cell_type": "code",
   "execution_count": 4,
   "id": "3bee68ba",
   "metadata": {},
   "outputs": [
    {
     "ename": "SyntaxError",
     "evalue": "unexpected EOF while parsing (2245290841.py, line 4)",
     "output_type": "error",
     "traceback": [
      "\u001b[0;36m  Input \u001b[0;32mIn [4]\u001b[0;36m\u001b[0m\n\u001b[0;31m    \u001b[0m\n\u001b[0m    ^\u001b[0m\n\u001b[0;31mSyntaxError\u001b[0m\u001b[0;31m:\u001b[0m unexpected EOF while parsing\n"
     ]
    }
   ],
   "source": [
    "def batch_collater(batch):\n",
    "    for each in batch:\n",
    "        \n",
    "        "
   ]
  },
  {
   "cell_type": "code",
   "execution_count": null,
   "id": "b7a334b0",
   "metadata": {},
   "outputs": [],
   "source": [
    "example_data = MicrobeMetaboliteData(microbes, metabolites)"
   ]
  },
  {
   "cell_type": "code",
   "execution_count": null,
   "id": "96bbbf8d",
   "metadata": {},
   "outputs": [],
   "source": [
    "example_data.total_microbe_observations.item()"
   ]
  },
  {
   "cell_type": "code",
   "execution_count": null,
   "id": "a32b0288",
   "metadata": {},
   "outputs": [],
   "source": [
    "class MMVec(nn.Module):\n",
    "    def __init__(self, num_microbes, num_metabolites, latent_dim):\n",
    "        super().__init__()\n",
    "        self.encoder = nn.Embedding(num_microbes, latent_dim)\n",
    "        self.decoder = nn.Sequential(\n",
    "            nn.Linear(latent_dim, num_metabolites),\n",
    "            # [batch, sample, metabolite]\n",
    "            nn.Softmax(dim=2)\n",
    "        )\n",
    "        \n",
    "    # X = batch_size of microbe indexes\n",
    "    # Y = expected metabolite data\n",
    "    def forward(self, X, Y):\n",
    "        z = self.encoder(X)\n",
    "        y_pred = self.decoder(z)\n",
    "#         print(y_pred.shape)\n",
    "#         raise\n",
    "        \n",
    "        # total_count=0 and validate_args=False allows skipping total count when calling log_prob\n",
    "        # as there having floating point issues leading to \"incorrect\" total counts.\n",
    "        # This multinomial is generated from the output of the single\n",
    "        forward_dist = Multinomial(total_count=0,\n",
    "                                  validate_args=False,\n",
    "                                  probs=y_pred)\n",
    "        print(f\"raw draws: {forward_dist}\")\n",
    "        \n",
    "        forward_dist = forward_dist.log_prob(Y)\n",
    "        print(f\"log_prob distances: {forward_dist}\")\n",
    "        \n",
    "        # get sample loss, a sample in each \"row\"/ zeroeth dimension of the tensor\n",
    "        forward_dist = forward_dist.mean(0)\n",
    "        \n",
    "        # total log probability loss in regards to all samples\n",
    "        lp = forward_dist.mean()\n",
    "#         lp = Multinomial(total_count=0, validate_args=False, probs=y_pred).log_prob(Y).mean(0).mean()\n",
    "        return lp"
   ]
  },
  {
   "cell_type": "code",
   "execution_count": null,
   "id": "3d2a00db",
   "metadata": {},
   "outputs": [],
   "source": [
    "mmvec_model = MMVec(example_data.microbe_count, example_data.metabolite_count, 15)"
   ]
  },
  {
   "cell_type": "code",
   "execution_count": null,
   "id": "99a743e6",
   "metadata": {},
   "outputs": [],
   "source": [
    "def train_loop(dataset, model, optimizer, batch_size):\n",
    "    n_batches = torch.div(dataset.total_microbe_observations.item(),\n",
    "                          batch_size,\n",
    "                          rounding_mode = 'floor') + 1\n",
    "    \n",
    "    for batch in range(n_batches * epochs):\n",
    "    \n",
    "        lp = model(torch.multinomial(dataset.microbe_relative_frequency, batch_size, replacement=True).T,\n",
    "              dataset.metabolite_relative_frequency)\n",
    "    \n",
    "        optimizer.zero_grad()\n",
    "        lp.backward()\n",
    "        optimizer.step()\n",
    "        \n",
    "        if batch % 100 == 0:\n",
    "            print(f\"loss: {lp.item()}\\nBatch #: {batch}\")\n",
    "        \n",
    "        "
   ]
  },
  {
   "cell_type": "code",
   "execution_count": null,
   "id": "fca83ad6",
   "metadata": {},
   "outputs": [],
   "source": [
    "learning_rate = 1e-3\n",
    "batch_size = 500\n",
    "epochs = 25\n",
    "optimizer = torch.optim.Adam(mmvec_model.parameters(), lr=learning_rate, maximize=True)\n",
    "\n",
    "# run the training loop    \n",
    "train_loop(dataset=example_data, model=mmvec_model, optimizer=optimizer, batch_size=batch_size)"
   ]
  }
 ],
 "metadata": {
  "kernelspec": {
   "display_name": "Python 3 (ipykernel)",
   "language": "python",
   "name": "python3"
  },
  "language_info": {
   "codemirror_mode": {
    "name": "ipython",
    "version": 3
   },
   "file_extension": ".py",
   "mimetype": "text/x-python",
   "name": "python",
   "nbconvert_exporter": "python",
   "pygments_lexer": "ipython3",
   "version": "3.8.12"
  }
 },
 "nbformat": 4,
 "nbformat_minor": 5
}
